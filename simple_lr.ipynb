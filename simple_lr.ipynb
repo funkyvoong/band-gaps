{
 "cells": [
  {
   "cell_type": "code",
   "execution_count": 109,
   "metadata": {},
   "outputs": [],
   "source": [
    "import requests\n",
    "import pandas as pd\n",
    "import numpy as np\n",
    "import matplotlib.pyplot as plt\n",
    "from sklearn.linear_model import LinearRegression\n",
    "from sklearn.model_selection import train_test_split\n",
    "from sklearn import metrics"
   ]
  },
  {
   "cell_type": "code",
   "execution_count": 132,
   "metadata": {},
   "outputs": [],
   "source": [
    "# load dataset with band gaps, info from OMDB, num_atoms, coulomb matrix, padded coulomb matrix, eigenvalues\n",
    "df = pd.read_csv('fulldf.csv',encoding = 'unicode_escape') "
   ]
  },
  {
   "cell_type": "code",
   "execution_count": 142,
   "metadata": {},
   "outputs": [],
   "source": [
    "bg_avg = np.mean(df['bandgaps']) # band gap mean\n",
    "bgs = df['bandgaps'].subtract(bg_avg) # shifting band gaps for 0 mean \n",
    "df['bandgaps'] = bgs"
   ]
  },
  {
   "cell_type": "code",
   "execution_count": 143,
   "metadata": {},
   "outputs": [],
   "source": [
    "# converting eigenvectors from strings to lists of floats \n",
    "sorted_eigs = df['eig']\n",
    "conv_eigs = []\n",
    "for val in sorted_eigs:\n",
    "    temp = []\n",
    "    eig_str = val[1:-1] # get rid of brackets\n",
    "    try:\n",
    "        temp = [float(x) for x in eig_str.split(',')]\n",
    "    except:\n",
    "        t = [complex(''.join(a.split())) for a in eig_str.split(',')]  \n",
    "        temp = [z.real for z in t]\n",
    "    conv_eigs.append(temp)"
   ]
  },
  {
   "cell_type": "code",
   "execution_count": 144,
   "metadata": {},
   "outputs": [],
   "source": [
    "# Linear Regression using eigenvectors from padded Coulomb matrices\n",
    "X_train, X_test, y_train, y_test = train_test_split(conv_eigs, bgs, test_size=0.30)#, random_state=42)\n",
    "reg = LinearRegression().fit(X_train, y_train)\n",
    "y_pred = reg.predict(X_test)\n",
    "y_df = pd.DataFrame({'Actual': y_test, 'Predicted': y_pred})"
   ]
  },
  {
   "cell_type": "code",
   "execution_count": 145,
   "metadata": {},
   "outputs": [
    {
     "name": "stdout",
     "output_type": "stream",
     "text": [
      "Using eigenvectors from padded Coulomb matrices\n",
      "Mean Absolute Error: 0.8031511104049848\n",
      "Mean Squared Error: 3.828089871179646\n",
      "Root Mean Squared Error: 1.956550503099689\n"
     ]
    }
   ],
   "source": [
    "print('Using eigenvectors from padded Coulomb matrices')\n",
    "print('Mean Absolute Error:', metrics.mean_absolute_error(y_test, y_pred))  \n",
    "print('Mean Squared Error:', metrics.mean_squared_error(y_test, y_pred))  \n",
    "print('Root Mean Squared Error:', np.sqrt(metrics.mean_squared_error(y_test, y_pred)))"
   ]
  },
  {
   "cell_type": "code",
   "execution_count": 141,
   "metadata": {},
   "outputs": [
    {
     "data": {
      "image/png": "[encoded data removed]",
      "text/plain": [
       "<Figure size 432x288 with 1 Axes>"
      ]
     },
     "metadata": {},
     "output_type": "display_data"
    }
   ],
   "source": [
    "# Plot outputs\n",
    "plt.scatter(y_test, y_pred,  color='black')\n",
    "#plt.plot(y_test, y_pred, color='blue', linewidth=3)\n",
    "plt.suptitle('actual vs predicted band gap using eigenvectors', fontsize=15)\n",
    "\n",
    "plt.xlabel('y_test', fontsize=12)\n",
    "plt.ylabel('y_predicted', fontsize=12)\n",
    "plt.xticks(())\n",
    "plt.yticks(())\n",
    "\n",
    "plt.show()"
   ]
  },
  {
   "cell_type": "code",
   "execution_count": 146,
   "metadata": {},
   "outputs": [],
   "source": [
    "df2 = df[['_chemical_formula_weight','_space_group_IT_number', '_symmetry_cell_setting', '_symmetry_space_group_name_H-M',\n",
    "         '_cell_angle_alpha', '_cell_angle_beta', '_cell_angle_gamma', '_diffrn_reflns_theta_full',\n",
    "         '_diffrn_reflns_theta_max', '_diffrn_reflns_theta_min', '_exptl_absorpt_coefficient_mu',\n",
    "         '_exptl_absorpt_correction_T_max', '_exptl_absorpt_correction_T_min', 'num_atoms']]"
   ]
  },
  {
   "cell_type": "code",
   "execution_count": null,
   "metadata": {},
   "outputs": [],
   "source": []
  },
  {
   "cell_type": "code",
   "execution_count": 147,
   "metadata": {},
   "outputs": [
    {
     "name": "stderr",
     "output_type": "stream",
     "text": [
      "/Users/michellevoong/anaconda2/envs/py37/lib/python3.7/site-packages/ipykernel_launcher.py:4: SettingWithCopyWarning: \n",
      "A value is trying to be set on a copy of a slice from a DataFrame.\n",
      "Try using .loc[row_indexer,col_indexer] = value instead\n",
      "\n",
      "See the caveats in the documentation: http://pandas.pydata.org/pandas-docs/stable/user_guide/indexing.html#returning-a-view-versus-a-copy\n",
      "  after removing the cwd from sys.path.\n",
      "/Users/michellevoong/anaconda2/envs/py37/lib/python3.7/site-packages/sklearn/preprocessing/_encoders.py:415: FutureWarning: The handling of integer data will change in version 0.22. Currently, the categories are determined based on the range [0, max(values)], while in the future they will be determined based on the unique values.\n",
      "If you want the future behaviour and silence this warning, you can specify \"categories='auto'\".\n",
      "In case you used a LabelEncoder before this OneHotEncoder to convert the categories to integers, then you can now use the OneHotEncoder directly.\n",
      "  warnings.warn(msg, FutureWarning)\n"
     ]
    }
   ],
   "source": [
    "from sklearn.preprocessing import LabelEncoder\n",
    "from sklearn.preprocessing import OneHotEncoder\n",
    "space_vals_temp = df2['_symmetry_space_group_name_H-M']\n",
    "df2['_symmetry_space_group_name_H-M'] = space_vals_temp.astype(str)\n",
    "\n",
    "label_encoder = LabelEncoder()\n",
    "integer_encoded = label_encoder.fit_transform(df2['_symmetry_space_group_name_H-M'])\n",
    "onehot_encoder = OneHotEncoder(sparse=False)\n",
    "integer_encoded = integer_encoded.reshape(len(integer_encoded), 1)\n",
    "space_vals_encoded = onehot_encoder.fit_transform(integer_encoded)"
   ]
  },
  {
   "cell_type": "code",
   "execution_count": 148,
   "metadata": {},
   "outputs": [
    {
     "name": "stderr",
     "output_type": "stream",
     "text": [
      "/Users/michellevoong/anaconda2/envs/py37/lib/python3.7/site-packages/ipykernel_launcher.py:1: SettingWithCopyWarning: \n",
      "A value is trying to be set on a copy of a slice from a DataFrame.\n",
      "Try using .loc[row_indexer,col_indexer] = value instead\n",
      "\n",
      "See the caveats in the documentation: http://pandas.pydata.org/pandas-docs/stable/user_guide/indexing.html#returning-a-view-versus-a-copy\n",
      "  \"\"\"Entry point for launching an IPython kernel.\n"
     ]
    }
   ],
   "source": [
    "df2['_symmetry_space_group_name_H-M'] = integer_encoded"
   ]
  },
  {
   "cell_type": "code",
   "execution_count": 149,
   "metadata": {},
   "outputs": [
    {
     "data": {
      "text/html": [
       "<div>\n",
       "<style scoped>\n",
       "    .dataframe tbody tr th:only-of-type {\n",
       "        vertical-align: middle;\n",
       "    }\n",
       "\n",
       "    .dataframe tbody tr th {\n",
       "        vertical-align: top;\n",
       "    }\n",
       "\n",
       "    .dataframe thead th {\n",
       "        text-align: right;\n",
       "    }\n",
       "</style>\n",
       "<table border=\"1\" class=\"dataframe\">\n",
       "  <thead>\n",
       "    <tr style=\"text-align: right;\">\n",
       "      <th></th>\n",
       "      <th>_chemical_formula_weight</th>\n",
       "      <th>_space_group_IT_number</th>\n",
       "      <th>_symmetry_cell_setting</th>\n",
       "      <th>_symmetry_space_group_name_H-M</th>\n",
       "      <th>_cell_angle_alpha</th>\n",
       "      <th>_cell_angle_beta</th>\n",
       "      <th>_cell_angle_gamma</th>\n",
       "      <th>_diffrn_reflns_theta_full</th>\n",
       "      <th>_diffrn_reflns_theta_max</th>\n",
       "      <th>_diffrn_reflns_theta_min</th>\n",
       "      <th>_exptl_absorpt_coefficient_mu</th>\n",
       "      <th>_exptl_absorpt_correction_T_max</th>\n",
       "      <th>_exptl_absorpt_correction_T_min</th>\n",
       "      <th>num_atoms</th>\n",
       "    </tr>\n",
       "  </thead>\n",
       "  <tbody>\n",
       "    <tr>\n",
       "      <th>0</th>\n",
       "      <td>454.29</td>\n",
       "      <td>2.0</td>\n",
       "      <td>3.0</td>\n",
       "      <td>30</td>\n",
       "      <td>100.182</td>\n",
       "      <td>93.405</td>\n",
       "      <td>110.024</td>\n",
       "      <td>-100.000</td>\n",
       "      <td>27.940</td>\n",
       "      <td>3.940</td>\n",
       "      <td>0.852</td>\n",
       "      <td>0.7849</td>\n",
       "      <td>0.7015</td>\n",
       "      <td>104</td>\n",
       "    </tr>\n",
       "    <tr>\n",
       "      <th>1</th>\n",
       "      <td>329.97</td>\n",
       "      <td>2.0</td>\n",
       "      <td>-100.1</td>\n",
       "      <td>30</td>\n",
       "      <td>84.549</td>\n",
       "      <td>86.322</td>\n",
       "      <td>78.859</td>\n",
       "      <td>25.214</td>\n",
       "      <td>26.015</td>\n",
       "      <td>2.618</td>\n",
       "      <td>0.770</td>\n",
       "      <td>0.9650</td>\n",
       "      <td>0.9200</td>\n",
       "      <td>52</td>\n",
       "    </tr>\n",
       "    <tr>\n",
       "      <th>2</th>\n",
       "      <td>339.34</td>\n",
       "      <td>2.0</td>\n",
       "      <td>3.0</td>\n",
       "      <td>30</td>\n",
       "      <td>82.166</td>\n",
       "      <td>78.000</td>\n",
       "      <td>82.390</td>\n",
       "      <td>27.450</td>\n",
       "      <td>27.450</td>\n",
       "      <td>1.830</td>\n",
       "      <td>0.108</td>\n",
       "      <td>0.9957</td>\n",
       "      <td>0.9633</td>\n",
       "      <td>84</td>\n",
       "    </tr>\n",
       "    <tr>\n",
       "      <th>3</th>\n",
       "      <td>241.11</td>\n",
       "      <td>9.0</td>\n",
       "      <td>1.0</td>\n",
       "      <td>4</td>\n",
       "      <td>90.000</td>\n",
       "      <td>100.024</td>\n",
       "      <td>90.000</td>\n",
       "      <td>25.000</td>\n",
       "      <td>25.000</td>\n",
       "      <td>4.500</td>\n",
       "      <td>0.568</td>\n",
       "      <td>1.0000</td>\n",
       "      <td>0.7330</td>\n",
       "      <td>100</td>\n",
       "    </tr>\n",
       "    <tr>\n",
       "      <th>4</th>\n",
       "      <td>203.24</td>\n",
       "      <td>14.0</td>\n",
       "      <td>1.0</td>\n",
       "      <td>48</td>\n",
       "      <td>90.000</td>\n",
       "      <td>110.890</td>\n",
       "      <td>90.000</td>\n",
       "      <td>-100.100</td>\n",
       "      <td>25.000</td>\n",
       "      <td>2.000</td>\n",
       "      <td>0.090</td>\n",
       "      <td>-100.1000</td>\n",
       "      <td>-100.1000</td>\n",
       "      <td>112</td>\n",
       "    </tr>\n",
       "  </tbody>\n",
       "</table>\n",
       "</div>"
      ],
      "text/plain": [
       "   _chemical_formula_weight  _space_group_IT_number  _symmetry_cell_setting  \\\n",
       "0                    454.29                     2.0                     3.0   \n",
       "1                    329.97                     2.0                  -100.1   \n",
       "2                    339.34                     2.0                     3.0   \n",
       "3                    241.11                     9.0                     1.0   \n",
       "4                    203.24                    14.0                     1.0   \n",
       "\n",
       "   _symmetry_space_group_name_H-M  _cell_angle_alpha  _cell_angle_beta  \\\n",
       "0                              30            100.182            93.405   \n",
       "1                              30             84.549            86.322   \n",
       "2                              30             82.166            78.000   \n",
       "3                               4             90.000           100.024   \n",
       "4                              48             90.000           110.890   \n",
       "\n",
       "   _cell_angle_gamma  _diffrn_reflns_theta_full  _diffrn_reflns_theta_max  \\\n",
       "0            110.024                   -100.000                    27.940   \n",
       "1             78.859                     25.214                    26.015   \n",
       "2             82.390                     27.450                    27.450   \n",
       "3             90.000                     25.000                    25.000   \n",
       "4             90.000                   -100.100                    25.000   \n",
       "\n",
       "   _diffrn_reflns_theta_min  _exptl_absorpt_coefficient_mu  \\\n",
       "0                     3.940                          0.852   \n",
       "1                     2.618                          0.770   \n",
       "2                     1.830                          0.108   \n",
       "3                     4.500                          0.568   \n",
       "4                     2.000                          0.090   \n",
       "\n",
       "   _exptl_absorpt_correction_T_max  _exptl_absorpt_correction_T_min  num_atoms  \n",
       "0                           0.7849                           0.7015        104  \n",
       "1                           0.9650                           0.9200         52  \n",
       "2                           0.9957                           0.9633         84  \n",
       "3                           1.0000                           0.7330        100  \n",
       "4                        -100.1000                        -100.1000        112  "
      ]
     },
     "execution_count": 149,
     "metadata": {},
     "output_type": "execute_result"
    }
   ],
   "source": [
    "df2.head()"
   ]
  },
  {
   "cell_type": "code",
   "execution_count": 150,
   "metadata": {},
   "outputs": [],
   "source": [
    "# Linear Regression \n",
    "X_train_o, X_test_o, y_train_o, y_test_o = train_test_split(df2, bgs, test_size=0.30)#, random_state=42)\n",
    "reg = LinearRegression().fit(X_train_o, y_train_o)\n",
    "y_pred_omdb = reg.predict(X_test_o)\n",
    "#y_df = pd.DataFrame({'Actual': y_test.flatten(), 'Predicted': y_pred.flatten()})\n",
    "y_df_omdb = pd.DataFrame({'Actual': y_test_o, 'Predicted': y_pred_omdb})"
   ]
  },
  {
   "cell_type": "code",
   "execution_count": 151,
   "metadata": {},
   "outputs": [
    {
     "name": "stdout",
     "output_type": "stream",
     "text": [
      "Using OMDB features\n",
      "Mean Absolute Error: 0.7456384053463946\n",
      "Mean Squared Error: 0.906179387744561\n",
      "Root Mean Squared Error: 0.9519345501370149\n"
     ]
    }
   ],
   "source": [
    "print('Using OMDB features')\n",
    "print('Mean Absolute Error:', metrics.mean_absolute_error(y_test_o, y_pred_omdb))  \n",
    "print('Mean Squared Error:', metrics.mean_squared_error(y_test_o, y_pred_omdb))  \n",
    "print('Root Mean Squared Error:', np.sqrt(metrics.mean_squared_error(y_test_o, y_pred_omdb)))"
   ]
  },
  {
   "cell_type": "code",
   "execution_count": 152,
   "metadata": {},
   "outputs": [
    {
     "data": {
      "text/plain": [
       "0.12471489217747267"
      ]
     },
     "execution_count": 152,
     "metadata": {},
     "output_type": "execute_result"
    }
   ],
   "source": [
    "from sklearn.metrics import r2_score\n",
    "r2_score(y_test_o, y_pred_omdb, multioutput='variance_weighted')"
   ]
  },
  {
   "cell_type": "code",
   "execution_count": 153,
   "metadata": {},
   "outputs": [
    {
     "data": {
      "image/png": "[encoded data removed]",
      "text/plain": [
       "<Figure size 432x288 with 1 Axes>"
      ]
     },
     "metadata": {},
     "output_type": "display_data"
    }
   ],
   "source": [
    "# Plot outputs\n",
    "plt.scatter(y_test, y_pred_omdb,  color='black')\n",
    "#plt.plot(y_test, y_pred, color='blue', linewidth=3)\n",
    "plt.suptitle('actual vs predicted band gap using omdb features', fontsize=15)\n",
    "\n",
    "plt.xlabel('y_test', fontsize=12)\n",
    "plt.ylabel('y_predicted', fontsize=12)\n",
    "\n",
    "plt.xticks(())\n",
    "plt.yticks(())\n",
    "\n",
    "plt.show()"
   ]
  },
  {
   "cell_type": "code",
   "execution_count": 154,
   "metadata": {},
   "outputs": [
    {
     "data": {
      "text/plain": [
       "1.0309685292243016"
      ]
     },
     "execution_count": 154,
     "metadata": {},
     "output_type": "execute_result"
    }
   ],
   "source": [
    "np.std(df['bandgaps'])"
   ]
  },
  {
   "cell_type": "code",
   "execution_count": 156,
   "metadata": {},
   "outputs": [],
   "source": [
    "df_sparse = df2\n",
    "#[['_chemical_formula_weight','_space_group_IT_number', '_symmetry_cell_setting', \n",
    " #                '_symmetry_space_group_name_H-M','num_atoms']]"
   ]
  },
  {
   "cell_type": "code",
   "execution_count": 157,
   "metadata": {},
   "outputs": [
    {
     "name": "stderr",
     "output_type": "stream",
     "text": [
      "/Users/michellevoong/anaconda2/envs/py37/lib/python3.7/site-packages/ipykernel_launcher.py:1: SettingWithCopyWarning: \n",
      "A value is trying to be set on a copy of a slice from a DataFrame.\n",
      "Try using .loc[row_indexer,col_indexer] = value instead\n",
      "\n",
      "See the caveats in the documentation: http://pandas.pydata.org/pandas-docs/stable/user_guide/indexing.html#returning-a-view-versus-a-copy\n",
      "  \"\"\"Entry point for launching an IPython kernel.\n"
     ]
    }
   ],
   "source": [
    "df_sparse['bandgaps']=df['bandgaps']\n",
    "train = df_sparse.drop(df_sparse[(df_sparse['num_atoms']<105)].index)\n",
    "#train = df_sparse.drop(df_sparse[(df_sparse['num_atoms']>105)].index)\n",
    "#set(df_sparse['num_atoms'])\n"
   ]
  },
  {
   "cell_type": "code",
   "execution_count": 158,
   "metadata": {},
   "outputs": [
    {
     "data": {
      "text/html": [
       "<div>\n",
       "<style scoped>\n",
       "    .dataframe tbody tr th:only-of-type {\n",
       "        vertical-align: middle;\n",
       "    }\n",
       "\n",
       "    .dataframe tbody tr th {\n",
       "        vertical-align: top;\n",
       "    }\n",
       "\n",
       "    .dataframe thead th {\n",
       "        text-align: right;\n",
       "    }\n",
       "</style>\n",
       "<table border=\"1\" class=\"dataframe\">\n",
       "  <thead>\n",
       "    <tr style=\"text-align: right;\">\n",
       "      <th></th>\n",
       "      <th>_chemical_formula_weight</th>\n",
       "      <th>_space_group_IT_number</th>\n",
       "      <th>_symmetry_cell_setting</th>\n",
       "      <th>_symmetry_space_group_name_H-M</th>\n",
       "      <th>_cell_angle_alpha</th>\n",
       "      <th>_cell_angle_beta</th>\n",
       "      <th>_cell_angle_gamma</th>\n",
       "      <th>_diffrn_reflns_theta_full</th>\n",
       "      <th>_diffrn_reflns_theta_max</th>\n",
       "      <th>_diffrn_reflns_theta_min</th>\n",
       "      <th>_exptl_absorpt_coefficient_mu</th>\n",
       "      <th>_exptl_absorpt_correction_T_max</th>\n",
       "      <th>_exptl_absorpt_correction_T_min</th>\n",
       "      <th>num_atoms</th>\n",
       "      <th>bandgaps</th>\n",
       "    </tr>\n",
       "  </thead>\n",
       "  <tbody>\n",
       "    <tr>\n",
       "      <th>4</th>\n",
       "      <td>203.24</td>\n",
       "      <td>14.0</td>\n",
       "      <td>1.0</td>\n",
       "      <td>48</td>\n",
       "      <td>90.000</td>\n",
       "      <td>110.890</td>\n",
       "      <td>90.000</td>\n",
       "      <td>-100.100</td>\n",
       "      <td>25.000</td>\n",
       "      <td>2.000</td>\n",
       "      <td>0.090</td>\n",
       "      <td>-100.1000</td>\n",
       "      <td>-100.1000</td>\n",
       "      <td>112</td>\n",
       "      <td>0.102969</td>\n",
       "    </tr>\n",
       "    <tr>\n",
       "      <th>6</th>\n",
       "      <td>204.26</td>\n",
       "      <td>29.0</td>\n",
       "      <td>5.0</td>\n",
       "      <td>88</td>\n",
       "      <td>90.000</td>\n",
       "      <td>90.000</td>\n",
       "      <td>90.000</td>\n",
       "      <td>70.870</td>\n",
       "      <td>70.870</td>\n",
       "      <td>4.610</td>\n",
       "      <td>0.610</td>\n",
       "      <td>0.8675</td>\n",
       "      <td>0.8576</td>\n",
       "      <td>124</td>\n",
       "      <td>1.172969</td>\n",
       "    </tr>\n",
       "    <tr>\n",
       "      <th>11</th>\n",
       "      <td>206.23</td>\n",
       "      <td>14.0</td>\n",
       "      <td>1.0</td>\n",
       "      <td>48</td>\n",
       "      <td>90.000</td>\n",
       "      <td>100.429</td>\n",
       "      <td>90.000</td>\n",
       "      <td>68.260</td>\n",
       "      <td>68.260</td>\n",
       "      <td>7.240</td>\n",
       "      <td>0.797</td>\n",
       "      <td>0.8520</td>\n",
       "      <td>0.4910</td>\n",
       "      <td>116</td>\n",
       "      <td>-0.027031</td>\n",
       "    </tr>\n",
       "    <tr>\n",
       "      <th>17</th>\n",
       "      <td>580.51</td>\n",
       "      <td>-100.1</td>\n",
       "      <td>3.0</td>\n",
       "      <td>30</td>\n",
       "      <td>94.820</td>\n",
       "      <td>98.701</td>\n",
       "      <td>90.263</td>\n",
       "      <td>25.000</td>\n",
       "      <td>25.000</td>\n",
       "      <td>1.510</td>\n",
       "      <td>0.115</td>\n",
       "      <td>-100.1000</td>\n",
       "      <td>-100.1000</td>\n",
       "      <td>132</td>\n",
       "      <td>-0.937031</td>\n",
       "    </tr>\n",
       "    <tr>\n",
       "      <th>25</th>\n",
       "      <td>279.13</td>\n",
       "      <td>4.0</td>\n",
       "      <td>1.0</td>\n",
       "      <td>46</td>\n",
       "      <td>90.000</td>\n",
       "      <td>91.773</td>\n",
       "      <td>90.000</td>\n",
       "      <td>28.330</td>\n",
       "      <td>28.330</td>\n",
       "      <td>1.480</td>\n",
       "      <td>3.519</td>\n",
       "      <td>0.8721</td>\n",
       "      <td>0.4983</td>\n",
       "      <td>108</td>\n",
       "      <td>0.102969</td>\n",
       "    </tr>\n",
       "    <tr>\n",
       "      <th>...</th>\n",
       "      <td>...</td>\n",
       "      <td>...</td>\n",
       "      <td>...</td>\n",
       "      <td>...</td>\n",
       "      <td>...</td>\n",
       "      <td>...</td>\n",
       "      <td>...</td>\n",
       "      <td>...</td>\n",
       "      <td>...</td>\n",
       "      <td>...</td>\n",
       "      <td>...</td>\n",
       "      <td>...</td>\n",
       "      <td>...</td>\n",
       "      <td>...</td>\n",
       "      <td>...</td>\n",
       "    </tr>\n",
       "    <tr>\n",
       "      <th>12481</th>\n",
       "      <td>366.46</td>\n",
       "      <td>2.0</td>\n",
       "      <td>3.0</td>\n",
       "      <td>30</td>\n",
       "      <td>105.049</td>\n",
       "      <td>92.969</td>\n",
       "      <td>114.710</td>\n",
       "      <td>25.242</td>\n",
       "      <td>27.448</td>\n",
       "      <td>2.788</td>\n",
       "      <td>0.086</td>\n",
       "      <td>0.9750</td>\n",
       "      <td>0.9580</td>\n",
       "      <td>108</td>\n",
       "      <td>-1.327031</td>\n",
       "    </tr>\n",
       "    <tr>\n",
       "      <th>12482</th>\n",
       "      <td>220.25</td>\n",
       "      <td>14.0</td>\n",
       "      <td>1.0</td>\n",
       "      <td>48</td>\n",
       "      <td>90.000</td>\n",
       "      <td>102.962</td>\n",
       "      <td>90.000</td>\n",
       "      <td>33.020</td>\n",
       "      <td>33.020</td>\n",
       "      <td>4.140</td>\n",
       "      <td>0.570</td>\n",
       "      <td>0.9980</td>\n",
       "      <td>0.9150</td>\n",
       "      <td>106</td>\n",
       "      <td>-1.487031</td>\n",
       "    </tr>\n",
       "    <tr>\n",
       "      <th>12485</th>\n",
       "      <td>208.22</td>\n",
       "      <td>205.0</td>\n",
       "      <td>7.0</td>\n",
       "      <td>79</td>\n",
       "      <td>90.000</td>\n",
       "      <td>90.000</td>\n",
       "      <td>90.000</td>\n",
       "      <td>52.940</td>\n",
       "      <td>52.940</td>\n",
       "      <td>7.070</td>\n",
       "      <td>1.243</td>\n",
       "      <td>0.6570</td>\n",
       "      <td>0.6230</td>\n",
       "      <td>106</td>\n",
       "      <td>-1.307031</td>\n",
       "    </tr>\n",
       "    <tr>\n",
       "      <th>12490</th>\n",
       "      <td>459.77</td>\n",
       "      <td>14.0</td>\n",
       "      <td>1.0</td>\n",
       "      <td>50</td>\n",
       "      <td>90.000</td>\n",
       "      <td>92.079</td>\n",
       "      <td>90.000</td>\n",
       "      <td>25.300</td>\n",
       "      <td>25.300</td>\n",
       "      <td>2.100</td>\n",
       "      <td>12.939</td>\n",
       "      <td>0.3890</td>\n",
       "      <td>0.2840</td>\n",
       "      <td>130</td>\n",
       "      <td>0.852969</td>\n",
       "    </tr>\n",
       "    <tr>\n",
       "      <th>12493</th>\n",
       "      <td>354.45</td>\n",
       "      <td>14.0</td>\n",
       "      <td>1.0</td>\n",
       "      <td>48</td>\n",
       "      <td>90.000</td>\n",
       "      <td>95.814</td>\n",
       "      <td>90.000</td>\n",
       "      <td>31.370</td>\n",
       "      <td>31.370</td>\n",
       "      <td>2.360</td>\n",
       "      <td>0.081</td>\n",
       "      <td>0.9949</td>\n",
       "      <td>0.9577</td>\n",
       "      <td>112</td>\n",
       "      <td>-0.037031</td>\n",
       "    </tr>\n",
       "  </tbody>\n",
       "</table>\n",
       "<p>2612 rows × 15 columns</p>\n",
       "</div>"
      ],
      "text/plain": [
       "       _chemical_formula_weight  _space_group_IT_number  \\\n",
       "4                        203.24                    14.0   \n",
       "6                        204.26                    29.0   \n",
       "11                       206.23                    14.0   \n",
       "17                       580.51                  -100.1   \n",
       "25                       279.13                     4.0   \n",
       "...                         ...                     ...   \n",
       "12481                    366.46                     2.0   \n",
       "12482                    220.25                    14.0   \n",
       "12485                    208.22                   205.0   \n",
       "12490                    459.77                    14.0   \n",
       "12493                    354.45                    14.0   \n",
       "\n",
       "       _symmetry_cell_setting  _symmetry_space_group_name_H-M  \\\n",
       "4                         1.0                              48   \n",
       "6                         5.0                              88   \n",
       "11                        1.0                              48   \n",
       "17                        3.0                              30   \n",
       "25                        1.0                              46   \n",
       "...                       ...                             ...   \n",
       "12481                     3.0                              30   \n",
       "12482                     1.0                              48   \n",
       "12485                     7.0                              79   \n",
       "12490                     1.0                              50   \n",
       "12493                     1.0                              48   \n",
       "\n",
       "       _cell_angle_alpha  _cell_angle_beta  _cell_angle_gamma  \\\n",
       "4                 90.000           110.890             90.000   \n",
       "6                 90.000            90.000             90.000   \n",
       "11                90.000           100.429             90.000   \n",
       "17                94.820            98.701             90.263   \n",
       "25                90.000            91.773             90.000   \n",
       "...                  ...               ...                ...   \n",
       "12481            105.049            92.969            114.710   \n",
       "12482             90.000           102.962             90.000   \n",
       "12485             90.000            90.000             90.000   \n",
       "12490             90.000            92.079             90.000   \n",
       "12493             90.000            95.814             90.000   \n",
       "\n",
       "       _diffrn_reflns_theta_full  _diffrn_reflns_theta_max  \\\n",
       "4                       -100.100                    25.000   \n",
       "6                         70.870                    70.870   \n",
       "11                        68.260                    68.260   \n",
       "17                        25.000                    25.000   \n",
       "25                        28.330                    28.330   \n",
       "...                          ...                       ...   \n",
       "12481                     25.242                    27.448   \n",
       "12482                     33.020                    33.020   \n",
       "12485                     52.940                    52.940   \n",
       "12490                     25.300                    25.300   \n",
       "12493                     31.370                    31.370   \n",
       "\n",
       "       _diffrn_reflns_theta_min  _exptl_absorpt_coefficient_mu  \\\n",
       "4                         2.000                          0.090   \n",
       "6                         4.610                          0.610   \n",
       "11                        7.240                          0.797   \n",
       "17                        1.510                          0.115   \n",
       "25                        1.480                          3.519   \n",
       "...                         ...                            ...   \n",
       "12481                     2.788                          0.086   \n",
       "12482                     4.140                          0.570   \n",
       "12485                     7.070                          1.243   \n",
       "12490                     2.100                         12.939   \n",
       "12493                     2.360                          0.081   \n",
       "\n",
       "       _exptl_absorpt_correction_T_max  _exptl_absorpt_correction_T_min  \\\n",
       "4                            -100.1000                        -100.1000   \n",
       "6                               0.8675                           0.8576   \n",
       "11                              0.8520                           0.4910   \n",
       "17                           -100.1000                        -100.1000   \n",
       "25                              0.8721                           0.4983   \n",
       "...                                ...                              ...   \n",
       "12481                           0.9750                           0.9580   \n",
       "12482                           0.9980                           0.9150   \n",
       "12485                           0.6570                           0.6230   \n",
       "12490                           0.3890                           0.2840   \n",
       "12493                           0.9949                           0.9577   \n",
       "\n",
       "       num_atoms  bandgaps  \n",
       "4            112  0.102969  \n",
       "6            124  1.172969  \n",
       "11           116 -0.027031  \n",
       "17           132 -0.937031  \n",
       "25           108  0.102969  \n",
       "...          ...       ...  \n",
       "12481        108 -1.327031  \n",
       "12482        106 -1.487031  \n",
       "12485        106 -1.307031  \n",
       "12490        130  0.852969  \n",
       "12493        112 -0.037031  \n",
       "\n",
       "[2612 rows x 15 columns]"
      ]
     },
     "execution_count": 158,
     "metadata": {},
     "output_type": "execute_result"
    }
   ],
   "source": [
    "train"
   ]
  },
  {
   "cell_type": "code",
   "execution_count": 159,
   "metadata": {},
   "outputs": [],
   "source": [
    "# Linear Regression \n",
    "X_train_sp, X_test_sp, y_train_sp, y_test_sp = train_test_split(train.drop(['bandgaps'], axis=1), train['bandgaps'], test_size=0.25, random_state=42)\n",
    "reg = LinearRegression().fit(X_train_sp, y_train_sp)\n",
    "y_pred_sp = reg.predict(X_test_sp)\n",
    "#y_df = pd.DataFrame({'Actual': y_test.flatten(), 'Predicted': y_pred.flatten()})\n",
    "y_df_sparse = pd.DataFrame({'Actual': y_test_sp, 'Predicted': y_pred_sp})"
   ]
  },
  {
   "cell_type": "code",
   "execution_count": 160,
   "metadata": {},
   "outputs": [
    {
     "name": "stdout",
     "output_type": "stream",
     "text": [
      "Mean Absolute Error: 0.6801880172808601\n",
      "Mean Squared Error: 0.7357155593223683\n",
      "Root Mean Squared Error: 0.8577386311239388\n"
     ]
    }
   ],
   "source": [
    "print('Mean Absolute Error:', metrics.mean_absolute_error(y_test_sp, y_pred_sp))  \n",
    "print('Mean Squared Error:', metrics.mean_squared_error(y_test_sp, y_pred_sp))  \n",
    "print('Root Mean Squared Error:', np.sqrt(metrics.mean_squared_error(y_test_sp, y_pred_sp)))"
   ]
  },
  {
   "cell_type": "code",
   "execution_count": 183,
   "metadata": {},
   "outputs": [
    {
     "data": {
      "text/plain": [
       "-1.2050804798491299e-16"
      ]
     },
     "execution_count": 183,
     "metadata": {},
     "output_type": "execute_result"
    }
   ],
   "source": [
    "np.mean(df['bandgaps'])"
   ]
  },
  {
   "cell_type": "code",
   "execution_count": null,
   "metadata": {},
   "outputs": [],
   "source": [
    "# rmse mae "
   ]
  },
  {
   "cell_type": "code",
   "execution_count": null,
   "metadata": {},
   "outputs": [],
   "source": []
  }
 ],
 "metadata": {
  "kernelspec": {
   "display_name": "py37",
   "language": "python",
   "name": "py37"
  },
  "language_info": {
   "codemirror_mode": {
    "name": "ipython",
    "version": 3
   },
   "file_extension": ".py",
   "mimetype": "text/x-python",
   "name": "python",
   "nbconvert_exporter": "python",
   "pygments_lexer": "ipython3",
   "version": "3.7.5"
  }
 },
 "nbformat": 4,
 "nbformat_minor": 4
}
