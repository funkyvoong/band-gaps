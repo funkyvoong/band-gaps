{
 "cells": [
  {
   "cell_type": "code",
   "execution_count": 1,
   "metadata": {},
   "outputs": [],
   "source": [
    "import GPy\n",
    "import numpy as np\n",
    "import pandas as pd"
   ]
  },
  {
   "cell_type": "code",
   "execution_count": 25,
   "metadata": {},
   "outputs": [],
   "source": [
    "df = pd.read_csv('fulldf.csv',encoding = 'unicode_escape') "
   ]
  },
  {
   "cell_type": "code",
   "execution_count": 26,
   "metadata": {},
   "outputs": [],
   "source": [
    "df2 = df[['_chemical_formula_weight','_space_group_IT_number', '_symmetry_cell_setting', '_symmetry_space_group_name_H-M',\n",
    "         '_cell_angle_alpha', '_cell_angle_beta', '_cell_angle_gamma', '_diffrn_reflns_theta_full',\n",
    "         '_diffrn_reflns_theta_max', '_diffrn_reflns_theta_min', '_exptl_absorpt_coefficient_mu',\n",
    "         '_exptl_absorpt_correction_T_max', '_exptl_absorpt_correction_T_min', 'num_atoms']]"
   ]
  },
  {
   "cell_type": "code",
   "execution_count": 42,
   "metadata": {},
   "outputs": [
    {
     "name": "stderr",
     "output_type": "stream",
     "text": [
      " /Users/nilamandal/opt/anaconda3/lib/python3.7/site-packages/ipykernel_launcher.py:4: SettingWithCopyWarning:\n",
      "A value is trying to be set on a copy of a slice from a DataFrame.\n",
      "Try using .loc[row_indexer,col_indexer] = value instead\n",
      "\n",
      "See the caveats in the documentation: http://pandas.pydata.org/pandas-docs/stable/user_guide/indexing.html#returning-a-view-versus-a-copy\n",
      " /Users/nilamandal/opt/anaconda3/lib/python3.7/site-packages/sklearn/preprocessing/_encoders.py:415: FutureWarning:The handling of integer data will change in version 0.22. Currently, the categories are determined based on the range [0, max(values)], while in the future they will be determined based on the unique values.\n",
      "If you want the future behaviour and silence this warning, you can specify \"categories='auto'\".\n",
      "In case you used a LabelEncoder before this OneHotEncoder to convert the categories to integers, then you can now use the OneHotEncoder directly.\n",
      " /Users/nilamandal/opt/anaconda3/lib/python3.7/site-packages/ipykernel_launcher.py:10: SettingWithCopyWarning:\n",
      "A value is trying to be set on a copy of a slice from a DataFrame.\n",
      "Try using .loc[row_indexer,col_indexer] = value instead\n",
      "\n",
      "See the caveats in the documentation: http://pandas.pydata.org/pandas-docs/stable/user_guide/indexing.html#returning-a-view-versus-a-copy\n"
     ]
    }
   ],
   "source": [
    "from sklearn.preprocessing import LabelEncoder\n",
    "from sklearn.preprocessing import OneHotEncoder\n",
    "space_vals_temp = df2['_symmetry_space_group_name_H-M']\n",
    "df2['_symmetry_space_group_name_H-M'] = space_vals_temp.astype(str)\n",
    "label_encoder = LabelEncoder()\n",
    "integer_encoded = label_encoder.fit_transform(df2['_symmetry_space_group_name_H-M'])\n",
    "onehot_encoder = OneHotEncoder(sparse=False)\n",
    "integer_encoded = integer_encoded.reshape(len(integer_encoded), 1)\n",
    "space_vals_encoded = onehot_encoder.fit_transform(integer_encoded)\n",
    "df2['_symmetry_space_group_name_H-M'] = integer_encoded\n",
    "#print(df2['_symmetry_space_group_name_H-M'])"
   ]
  },
  {
   "cell_type": "code",
   "execution_count": 47,
   "metadata": {},
   "outputs": [
    {
     "name": "stdout",
     "output_type": "stream",
     "text": [
      "0        [4267.699976133702, 3770.9038214909883, 542.64...\n",
      "1        [982.2658584535666, 516.9357657927295, 424.237...\n",
      "2        [486.7720362544897, 174.73302694103933, 140.11...\n",
      "3        [918.2482181592767, 530.0995402948571, 461.672...\n",
      "4        [466.96443464306896, 186.28089562354964, 144.0...\n",
      "                               ...                        \n",
      "12495    [477.4976439857017, 332.83733650025306, 155.70...\n",
      "12496    [353.3725696632276, 188.65121169887047, 112.85...\n",
      "12497    [446.7017954220414, 337.52969644375935, 240.28...\n",
      "12498    [529.2210104049125, 363.2248817129924, 164.113...\n",
      "12499    [427.9109952598827, 154.97176322150952, 128.48...\n",
      "Name: eig, Length: 12500, dtype: object\n"
     ]
    }
   ],
   "source": [
    "sorted_eigs = df['eig']\n",
    "conv_eigs = []\n",
    "for val in sorted_eigs:\n",
    "    temp = []\n",
    "    eig_str = val[1:-1] # get rid of brackets\n",
    "    try:\n",
    "        temp = [float(x) for x in eig_str.split(',')]\n",
    "    except:\n",
    "        t = [complex(''.join(a.split())) for a in eig_str.split(',')]  \n",
    "        temp = [z.real for z in t]\n",
    "    conv_eigs.append(temp)\n",
    "xdf = pd.DataFrame.from_records(conv_eigs)\n",
    "df2['eig']=conv_eigs\n",
    "print(df2['eig'])"
   ]
  },
  {
   "cell_type": "code",
   "execution_count": 48,
   "metadata": {},
   "outputs": [
    {
     "name": "stdout",
     "output_type": "stream",
     "text": [
      "       _chemical_formula_weight  _space_group_IT_number  \\\n",
      "0                        454.29                     2.0   \n",
      "1                        329.97                     2.0   \n",
      "2                        339.34                     2.0   \n",
      "3                        241.11                     9.0   \n",
      "4                        203.24                    14.0   \n",
      "...                         ...                     ...   \n",
      "12495                    308.40                     2.0   \n",
      "12496                    646.76                     2.0   \n",
      "12497                    458.77                     2.0   \n",
      "12498                    174.21                    14.0   \n",
      "12499                    255.30                     2.0   \n",
      "\n",
      "       _symmetry_cell_setting  _symmetry_space_group_name_H-M  \\\n",
      "0                         3.0                              34   \n",
      "1                      -100.1                              34   \n",
      "2                         3.0                              34   \n",
      "3                         1.0                              44   \n",
      "4                         1.0                              53   \n",
      "...                       ...                             ...   \n",
      "12495                  -100.1                              34   \n",
      "12496                     3.0                              34   \n",
      "12497                     3.0                              34   \n",
      "12498                     1.0                              53   \n",
      "12499                     3.0                              34   \n",
      "\n",
      "       _cell_angle_alpha  _cell_angle_beta  _cell_angle_gamma  \\\n",
      "0               100.1820           93.4050           110.0240   \n",
      "1                84.5490           86.3220            78.8590   \n",
      "2                82.1660           78.0000            82.3900   \n",
      "3                90.0000          100.0240            90.0000   \n",
      "4                90.0000          110.8900            90.0000   \n",
      "...                  ...               ...                ...   \n",
      "12495           100.4130           92.5030           104.7940   \n",
      "12496            85.8725           74.5382            73.0208   \n",
      "12497            85.8910           76.8830            82.6030   \n",
      "12498            90.0000           96.8250            90.0000   \n",
      "12499           104.5370          106.4350            90.0020   \n",
      "\n",
      "       _diffrn_reflns_theta_full  _diffrn_reflns_theta_max  \\\n",
      "0                       -100.000                    27.940   \n",
      "1                         25.214                    26.015   \n",
      "2                         27.450                    27.450   \n",
      "3                         25.000                    25.000   \n",
      "4                       -100.100                    25.000   \n",
      "...                          ...                       ...   \n",
      "12495                     66.650                    66.650   \n",
      "12496                     26.370                    26.370   \n",
      "12497                     26.990                    26.990   \n",
      "12498                     26.000                    26.000   \n",
      "12499                     67.520                    67.520   \n",
      "\n",
      "       _diffrn_reflns_theta_min  ...    eig198    eig199    eig200    eig201  \\\n",
      "0                         3.940  ... -1.203165 -1.205857 -1.326787 -1.327329   \n",
      "1                         2.618  ... -0.541338 -0.546379 -0.664733 -0.665280   \n",
      "2                         1.830  ... -0.915020 -0.916520 -0.920830 -0.926920   \n",
      "3                         4.500  ... -0.987784 -1.014688 -1.094078 -1.095229   \n",
      "4                         2.000  ... -0.720351 -0.721187 -0.740081 -0.740627   \n",
      "...                         ...  ...       ...       ...       ...       ...   \n",
      "12495                     2.540  ... -0.835753 -0.835775 -0.937313 -0.937890   \n",
      "12496                     2.560  ... -1.033346 -1.036995 -1.099409 -1.100128   \n",
      "12497                     2.180  ... -1.209433 -1.209479 -1.316004 -1.316346   \n",
      "12498                     3.130  ... -1.088579 -1.088872 -1.099476 -1.101089   \n",
      "12499                     4.390  ... -1.011418 -1.011425 -1.221900 -1.221906   \n",
      "\n",
      "         eig202    eig203    eig204    eig205    eig206    eig207  \n",
      "0     -1.331857 -1.331907 -1.348825 -1.352899 -1.404034 -1.408881  \n",
      "1     -0.931161 -0.932035 -1.079446 -1.082232 -1.425031 -1.425429  \n",
      "2     -1.129426 -1.139392 -1.234858 -1.244894 -1.471865 -1.476366  \n",
      "3     -1.135042 -1.137927 -1.349797 -1.350206 -1.464028 -1.468045  \n",
      "4     -0.829009 -0.829121 -0.885135 -0.886207 -0.913491 -0.913496  \n",
      "...         ...       ...       ...       ...       ...       ...  \n",
      "12495 -1.351763 -1.351812 -1.427512 -1.428536 -1.518572 -1.518681  \n",
      "12496 -1.152327 -1.152500 -1.352733 -1.354436 -1.399787 -1.399787  \n",
      "12497 -1.347737 -1.347805 -1.361187 -1.361966 -1.409618 -1.412672  \n",
      "12498 -1.274275 -1.274576 -1.385089 -1.385160 -1.551698 -1.555412  \n",
      "12499 -1.411846 -1.412612 -1.622294 -1.622316 -1.756176 -1.757426  \n",
      "\n",
      "[12500 rows x 222 columns]\n"
     ]
    }
   ],
   "source": [
    "tempeig=list(df2['eig'])\n",
    "\n",
    "for x in range(208):\n",
    "    e='eig'+str(x)\n",
    "    df2[e]=[row[x] for row in tempeig]\n",
    "df2=df2.drop('eig', axis=1) \n",
    "print(df2)"
   ]
  },
  {
   "cell_type": "code",
   "execution_count": 49,
   "metadata": {},
   "outputs": [],
   "source": [
    "y = df['bandgaps'][:5000]\n",
    "x = df2[:5000]\n",
    "#x = xdf[:5000]\n",
    "y = y.to_numpy()\n",
    "y= y - 3.047\n",
    "y= np.reshape(y,(5000,1))\n",
    "x = x.to_numpy()\n",
    "#print(y)\n",
    "\n",
    "\n",
    "#X = np.random.uniform(-3.,3.,(20,1))\n",
    "#Y = np.sin(X) + np.random.randn(20,1)*0.05\n",
    "#kernel = GPy.kern.Matern32(input_dim=14, variance=1, lengthscale=16)\n",
    "kernel = GPy.kern.RBF(input_dim=222, variance=1., lengthscale=2.) # using RBF kernel  \n",
    "#\n",
    "#"
   ]
  },
  {
   "cell_type": "code",
   "execution_count": 50,
   "metadata": {},
   "outputs": [],
   "source": [
    "m = GPy.models.GPRegression(x,y,kernel)"
   ]
  },
  {
   "cell_type": "code",
   "execution_count": 51,
   "metadata": {},
   "outputs": [
    {
     "data": {
      "text/html": [
       "<style type=\"text/css\">\n",
       ".pd{\n",
       "    font-family: \"Courier New\", Courier, monospace !important;\n",
       "    width: 100%;\n",
       "    padding: 3px;\n",
       "}\n",
       "</style>\n",
       "\n",
       "<p class=pd>\n",
       "<b>Model</b>: GP regression<br>\n",
       "<b>Objective</b>: 7644.249199686314<br>\n",
       "<b>Number of Parameters</b>: 3<br>\n",
       "<b>Number of Optimization Parameters</b>: 3<br>\n",
       "<b>Updates</b>: True<br>\n",
       "</p>\n",
       "<style type=\"text/css\">\n",
       ".tg  {font-family:\"Courier New\", Courier, monospace !important;padding:2px 3px;word-break:normal;border-collapse:collapse;border-spacing:0;border-color:#DCDCDC;margin:0px auto;width:100%;}\n",
       ".tg td{font-family:\"Courier New\", Courier, monospace !important;font-weight:bold;color:#444;background-color:#F7FDFA;border-style:solid;border-width:1px;overflow:hidden;word-break:normal;border-color:#DCDCDC;}\n",
       ".tg th{font-family:\"Courier New\", Courier, monospace !important;font-weight:normal;color:#fff;background-color:#26ADE4;border-style:solid;border-width:1px;overflow:hidden;word-break:normal;border-color:#DCDCDC;}\n",
       ".tg .tg-left{font-family:\"Courier New\", Courier, monospace !important;font-weight:normal;text-align:left;}\n",
       ".tg .tg-center{font-family:\"Courier New\", Courier, monospace !important;font-weight:normal;text-align:center;}\n",
       ".tg .tg-right{font-family:\"Courier New\", Courier, monospace !important;font-weight:normal;text-align:right;}\n",
       "</style>\n",
       "<table class=\"tg\"><tr><th><b>  GP_regression.         </b></th><th><b>value</b></th><th><b>constraints</b></th><th><b>priors</b></th></tr>\n",
       "<tr><td class=tg-left>  rbf.variance           </td><td class=tg-right>  1.0</td><td class=tg-center>    +ve    </td><td class=tg-center>      </td></tr>\n",
       "<tr><td class=tg-left>  rbf.lengthscale        </td><td class=tg-right>  2.0</td><td class=tg-center>    +ve    </td><td class=tg-center>      </td></tr>\n",
       "<tr><td class=tg-left>  Gaussian_noise.variance</td><td class=tg-right>  1.0</td><td class=tg-center>    +ve    </td><td class=tg-center>      </td></tr>\n",
       "</table>"
      ],
      "text/plain": [
       "<GPy.models.gp_regression.GPRegression at 0x1a1e6edcd0>"
      ]
     },
     "metadata": {},
     "output_type": "display_data"
    }
   ],
   "source": [
    "from IPython.display import display\n",
    "display(m)\n"
   ]
  },
  {
   "cell_type": "code",
   "execution_count": 52,
   "metadata": {},
   "outputs": [
    {
     "data": {
      "application/vnd.jupyter.widget-view+json": {
       "model_id": "7ad3928e57714e139aad3296a036e613",
       "version_major": 2,
       "version_minor": 0
      },
      "text/plain": [
       "HBox(children=(VBox(children=(IntProgress(value=0, max=1000), HTML(value=''))), Box(children=(HTML(value=''),)…"
      ]
     },
     "metadata": {},
     "output_type": "display_data"
    },
    {
     "data": {
      "text/plain": [
       "<paramz.optimization.optimization.opt_lbfgsb at 0x1a1e6e8350>"
      ]
     },
     "execution_count": 52,
     "metadata": {},
     "output_type": "execute_result"
    }
   ],
   "source": [
    "m.optimize(messages=True)"
   ]
  },
  {
   "cell_type": "code",
   "execution_count": 40,
   "metadata": {},
   "outputs": [
    {
     "name": "stdout",
     "output_type": "stream",
     "text": [
      "[[ 0.71244448]\n",
      " [ 0.02097407]\n",
      " [-0.31767554]\n",
      " ...\n",
      " [-0.52902311]\n",
      " [ 0.20883225]\n",
      " [ 0.19872397]]\n",
      "[[0.83815756]\n",
      " [0.83972055]\n",
      " [0.71354629]\n",
      " ...\n",
      " [0.73489081]\n",
      " [0.70849782]\n",
      " [0.80174997]]\n"
     ]
    }
   ],
   "source": [
    "x_test= df2[11000:]\n",
    "y_test= df['bandgaps'][11000:]\n",
    "x_test= x_test.to_numpy()\n",
    "y_test= y_test.to_numpy()\n",
    "y_test= y_test - 3.047\n",
    "xmean, xvar= m.predict(x_test)\n",
    "print(xmean)\n",
    "print(xvar)"
   ]
  },
  {
   "cell_type": "code",
   "execution_count": 41,
   "metadata": {
    "scrolled": true
   },
   "outputs": [
    {
     "name": "stdout",
     "output_type": "stream",
     "text": [
      "1.2285318981770945\n",
      "1.1083915816069223\n",
      "0.8715026930019631\n"
     ]
    }
   ],
   "source": [
    "mse = (np.square(y_test - xmean)).mean()\n",
    "print(mse)\n",
    "print(np.sqrt(mse))\n",
    "mae= np.abs(y_test-xmean).mean()\n",
    "print(mae)"
   ]
  },
  {
   "cell_type": "code",
   "execution_count": null,
   "metadata": {},
   "outputs": [],
   "source": []
  },
  {
   "cell_type": "code",
   "execution_count": null,
   "metadata": {},
   "outputs": [],
   "source": []
  }
 ],
 "metadata": {
  "kernelspec": {
   "display_name": "Python 3",
   "language": "python",
   "name": "python3"
  },
  "language_info": {
   "codemirror_mode": {
    "name": "ipython",
    "version": 3
   },
   "file_extension": ".py",
   "mimetype": "text/x-python",
   "name": "python",
   "nbconvert_exporter": "python",
   "pygments_lexer": "ipython3",
   "version": "3.7.4"
  }
 },
 "nbformat": 4,
 "nbformat_minor": 2
}
